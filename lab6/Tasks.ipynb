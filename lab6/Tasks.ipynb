{
 "cells": [
  {
   "cell_type": "code",
   "execution_count": null,
   "metadata": {},
   "outputs": [],
   "source": [
    "import os\n",
    "\n",
    "def list_contents(path):\n",
    "    directories = [d for d in os.listdir(path) if os.path.isdir(os.path.join(path, d))]\n",
    "    files = [f for f in os.listdir(path) if os.path.isfile(os.path.join(path, f))]\n",
    "    all_contents = os.listdir(path)\n",
    "    \n",
    "    return directories, files, all_contents\n",
    "\n",
    "path = \"C:/Users/Nurdaulet/Downloads\"  \n",
    "directories, files, all_contents = list_contents(path)\n",
    "\n",
    "print(\"Directories:\", directories)\n",
    "print(\"Files:\", files)\n",
    "print(\"All Contents:\", all_contents)\n"
   ]
  },
  {
   "cell_type": "code",
   "execution_count": null,
   "metadata": {},
   "outputs": [],
   "source": [
    "import os\n",
    "\n",
    "path = \"C:/Users/Nurdaulet/Downloads\"  \n",
    "\n",
    "print(\"Exists:\", os.path.exists(path))\n",
    "print(\"Readable:\", os.access(path, os.R_OK))\n",
    "print(\"Writable:\", os.access(path, os.W_OK))\n",
    "print(\"Executable:\", os.access(path, os.X_OK))\n"
   ]
  },
  {
   "cell_type": "code",
   "execution_count": null,
   "metadata": {},
   "outputs": [],
   "source": [
    "import os\n",
    "\n",
    "path = \"C:/Users/Nurdaulet/Downloads/example.txt\"  \n",
    "\n",
    "if os.path.exists(path):\n",
    "    print(\"Path exists.\")\n",
    "    print(\"Directory:\", os.path.dirname(path))\n",
    "    print(\"Filename:\", os.path.basename(path))\n",
    "else:\n",
    "    print(\"Path does not exist.\")\n"
   ]
  },
  {
   "cell_type": "code",
   "execution_count": null,
   "metadata": {},
   "outputs": [],
   "source": [
    "def count_lines(file_path):\n",
    "    with open(file_path, \"r\", encoding=\"utf-8\") as file:\n",
    "        return sum(1 for line in file)\n",
    "\n",
    "file_path = \"example.txt\"  # Change to your file\n",
    "print(\"Number of lines:\", count_lines(file_path))\n"
   ]
  },
  {
   "cell_type": "code",
   "execution_count": null,
   "metadata": {},
   "outputs": [],
   "source": [
    "my_list = [\"apple\", \"banana\", \"cherry\"]\n",
    "\n",
    "with open(\"output.txt\", \"w\", encoding=\"utf-8\") as file:\n",
    "    for item in my_list:\n",
    "        file.write(item + \"\\n\")\n"
   ]
  },
  {
   "cell_type": "code",
   "execution_count": null,
   "metadata": {},
   "outputs": [],
   "source": [
    "import string\n",
    "\n",
    "for letter in string.ascii_uppercase:\n",
    "    with open(f\"{letter}.txt\", \"w\") as file:\n",
    "        file.write(f\"This is {letter}.txt\\n\")\n"
   ]
  },
  {
   "cell_type": "code",
   "execution_count": null,
   "metadata": {},
   "outputs": [],
   "source": [
    "source_file = \"source.txt\"\n",
    "destination_file = \"destination.txt\"\n",
    "\n",
    "with open(source_file, \"r\", encoding=\"utf-8\") as src, open(destination_file, \"w\", encoding=\"utf-8\") as dest:\n",
    "    dest.write(src.read())\n"
   ]
  },
  {
   "cell_type": "code",
   "execution_count": null,
   "metadata": {},
   "outputs": [],
   "source": [
    "import os\n",
    "\n",
    "file_path = \"example.txt\"  # Change to your file\n",
    "\n",
    "if os.path.exists(file_path):\n",
    "    if os.access(file_path, os.W_OK):\n",
    "        os.remove(file_path)\n",
    "        print(\"File deleted successfully.\")\n",
    "    else:\n",
    "        print(\"No write access to delete the file.\")\n",
    "else:\n",
    "    print(\"File does not exist.\")\n"
   ]
  }
 ],
 "metadata": {
  "language_info": {
   "name": "python"
  }
 },
 "nbformat": 4,
 "nbformat_minor": 2
}
