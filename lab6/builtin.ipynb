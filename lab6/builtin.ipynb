{
 "cells": [
  {
   "cell_type": "code",
   "execution_count": null,
   "metadata": {},
   "outputs": [],
   "source": [
    "import math\n",
    "\n",
    "numbers = [2, 3, 4, 5]\n",
    "result = math.prod(numbers)\n",
    "\n",
    "print(result) \n"
   ]
  },
  {
   "cell_type": "code",
   "execution_count": null,
   "metadata": {},
   "outputs": [],
   "source": [
    "def count_case(s):\n",
    "    upper = sum(1 for char in s if char.isupper())\n",
    "    lower = sum(1 for char in s if char.islower())\n",
    "    return upper, lower\n",
    "\n",
    "text = \"Hello World!\"\n",
    "upper, lower = count_case(text)\n",
    "\n",
    "print(\"Uppercase letters:\", upper)\n",
    "print(\"Lowercase letters:\", lower)\n"
   ]
  },
  {
   "cell_type": "code",
   "execution_count": null,
   "metadata": {},
   "outputs": [],
   "source": [
    "def is_palindrome(s):\n",
    "    return s == s[::-1]\n",
    "\n",
    "text = \"madam\"\n",
    "print(is_palindrome(text))  \n"
   ]
  },
  {
   "cell_type": "code",
   "execution_count": null,
   "metadata": {},
   "outputs": [],
   "source": [
    "import time\n",
    "import math\n",
    "\n",
    "num = 25100\n",
    "delay = 2123 / 1000  \n",
    "\n",
    "time.sleep(delay)\n",
    "result = math.sqrt(num)\n",
    "\n",
    "print(f\"Square root of {num} after {delay * 1000} milliseconds is {result}\")\n"
   ]
  },
  {
   "cell_type": "code",
   "execution_count": null,
   "metadata": {},
   "outputs": [],
   "source": [
    "t = (True, 1, \"hello\")\n",
    "\n",
    "print(all(t)) \n"
   ]
  }
 ],
 "metadata": {
  "language_info": {
   "name": "python"
  }
 },
 "nbformat": 4,
 "nbformat_minor": 2
}
