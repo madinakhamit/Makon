{
 "cells": [
  {
   "cell_type": "code",
   "execution_count": null,
   "id": "18616225",
   "metadata": {},
   "outputs": [
    {
     "name": "stdout",
     "output_type": "stream",
     "text": [
      "1*1=1\n",
      "2*2=4\n",
      "3*3=9\n",
      "4*4=16\n",
      "5*5=25\n",
      "6*6=36\n",
      "7*7=49\n",
      "8*8=64\n",
      "9*9=81\n",
      "10*10=100\n"
     ]
    }
   ],
   "source": [
    "#For 1. Write a for loop that prints squares of numbers from 1 to 10.\n",
    "\n",
    "for i in range(1,11):\n",
    "    print(f\"{i}*{i}={i*i}\")"
   ]
  },
  {
   "cell_type": "code",
   "execution_count": 4,
   "id": "dbfb8e40",
   "metadata": {},
   "outputs": [
    {
     "name": "stdout",
     "output_type": "stream",
     "text": [
      "kaz\n",
      "eng\n",
      "tr\n",
      "rus\n"
     ]
    }
   ],
   "source": [
    "#List\n",
    "\n",
    "list=['kaz','eng','tr','rus']\n",
    "print(list[0])\n",
    "print(list[1])\n",
    "print(list[2])\n",
    "print(list[3])\n"
   ]
  },
  {
   "cell_type": "code",
   "execution_count": null,
   "id": "7649aeae",
   "metadata": {},
   "outputs": [],
   "source": [
    "#Basic list methods\n",
    "\n",
    "\n",
    "list= ['kaz','eng','tr','rus']\n",
    "list.append('ukr')\n",
    "print(list)\n",
    "list.insert(2,'pol')\n",
    "print(list)\n",
    "list.remove('eng')\n",
    "print(list)\n",
    "list.pop()\n",
    "print(list)\n",
    "list.sort()\n",
    "print(list)\n",
    "list.reverse()\n",
    "print(list)\n",
    "\n",
    "\n",
    "\n",
    "\n",
    "\n",
    "\n",
    "\n",
    "\n",
    "\n",
    "#INSERT \n",
    "\n",
    "\n",
    "\n",
    "\n",
    "\n",
    "\n",
    "#REMOVE\n",
    "\n",
    "\n",
    "\n",
    "\n",
    "\n",
    "\n",
    "#POP\n",
    "\n",
    "\n",
    "\n",
    "\n",
    "\n",
    "\n",
    "\n",
    "#SORT\n",
    "\n",
    "\n",
    "\n",
    "\n",
    "\n",
    "\n",
    "\n",
    "\n",
    "#REVERSE\n",
    "\n",
    "\n",
    "\n",
    "\n",
    "\n"
   ]
  },
  {
   "cell_type": "code",
   "execution_count": null,
   "id": "48277d21",
   "metadata": {},
   "outputs": [],
   "source": [
    "#CHANGING ELEMENT AND SLICING \n",
    "\n",
    "list=['kaz','eng','tr','rus']\n",
    "list[2]='pol'\n",
    "print(list)\n",
    "list=list[1:3]\n",
    "print(list)\n",
    "list=list[1:]\n",
    "print(list)\n",
    "list=list[:2]\n",
    "print(list)\n",
    "list=list[::-1]\n",
    "print(list)\n",
    "\n"
   ]
  },
  {
   "cell_type": "code",
   "execution_count": null,
   "id": "49604ecb",
   "metadata": {},
   "outputs": [],
   "source": [
    "#NESTED LISTS\n",
    "\n",
    "list=[[1,2,3],[4,5,6],[7,8,9]]\n",
    "print(list[1][2])"
   ]
  },
  {
   "cell_type": "code",
   "execution_count": 6,
   "id": "f3b68256",
   "metadata": {},
   "outputs": [
    {
     "name": "stdout",
     "output_type": "stream",
     "text": [
      "15\n",
      "5\n"
     ]
    }
   ],
   "source": [
    "list=[1,2,3,4,5]\n",
    "print(sum(list))\n",
    "\n",
    "list=[1,2,3,4,5]\n",
    "print(max(list))"
   ]
  },
  {
   "cell_type": "code",
   "execution_count": null,
   "id": "34835352",
   "metadata": {},
   "outputs": [],
   "source": []
  }
 ],
 "metadata": {
  "kernelspec": {
   "display_name": "Python 3",
   "language": "python",
   "name": "python3"
  },
  "language_info": {
   "codemirror_mode": {
    "name": "ipython",
    "version": 3
   },
   "file_extension": ".py",
   "mimetype": "text/x-python",
   "name": "python",
   "nbconvert_exporter": "python",
   "pygments_lexer": "ipython3",
   "version": "3.11.4"
  }
 },
 "nbformat": 4,
 "nbformat_minor": 5
}
