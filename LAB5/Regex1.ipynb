{
 "cells": [
  {
   "cell_type": "code",
   "execution_count": null,
   "metadata": {},
   "outputs": [],
   "source": [
    "import re\n",
    "pattern = re.compile(r\"ab*\")\n",
    "\n",
    "with open(\"C:/Users/Nurdaulet/Downloads/row.txt\", \"r\",encoding=\"utf-8\") as file:\n",
    "    for line in file:\n",
    "        line = line.strip()  \n",
    "        if pattern.fullmatch(line): \n",
    "            print(f\"Matched: {line}\")\n",
    "        else:\n",
    "            print(f\"Not Matched: {line}\")"
   ]
  },
  {
   "cell_type": "code",
   "execution_count": null,
   "metadata": {},
   "outputs": [],
   "source": [
    "import re\n",
    "\n",
    "pattern = re.compile(r\"abb?b?$\")\n",
    "\n",
    "text =  [\"a\", \"ab\", \"abb\", \"abbb\", \"abbbb\", \"abc\", \"aabb\"]\n",
    "for string in text:\n",
    "        if pattern.fullmatch(string):\n",
    "            print(f\"Matched: {string}\")\n",
    "        else:\n",
    "            print(f\"Not Matched: {string}\")\n"
   ]
  },
  {
   "cell_type": "code",
   "execution_count": 13,
   "metadata": {},
   "outputs": [
    {
     "name": "stdout",
     "output_type": "stream",
     "text": [
      "MAtched : a_z\n",
      "MAtched : o_p\n"
     ]
    }
   ],
   "source": [
    "import re\n",
    "pattern = re.compile(r\"[a-z]_[a-z]\")\n",
    "\n",
    "text = [\"a_z\",\"b_ZZ\",\"O_k\",\"o_p\"]\n",
    "\n",
    "for string in text:\n",
    "    if pattern.fullmatch(string):\n",
    "        print(f\"MAtched : {string}\")"
   ]
  },
  {
   "cell_type": "code",
   "execution_count": 19,
   "metadata": {},
   "outputs": [
    {
     "name": "stdout",
     "output_type": "stream",
     "text": [
      "Matched : Azzzzz\n",
      "Matched : Ok\n"
     ]
    }
   ],
   "source": [
    "import re\n",
    "pattern = re.compile(r\"[A-Z][a-z]+\")\n",
    "text = [\"Azzzzz\",\"bgz\",\"Ok\",\"opp\"]\n",
    "\n",
    "for string in text:\n",
    "    if pattern.fullmatch(string):\n",
    "        print(f\"Matched : {string}\")"
   ]
  },
  {
   "cell_type": "code",
   "execution_count": null,
   "metadata": {},
   "outputs": [],
   "source": [
    "import re\n",
    "pattern = re.compile(r)"
   ]
  },
  {
   "cell_type": "code",
   "execution_count": 21,
   "metadata": {},
   "outputs": [
    {
     "name": "stdout",
     "output_type": "stream",
     "text": [
      "Matched : abb\n",
      "Matched : aOb\n"
     ]
    }
   ],
   "source": [
    "import re\n",
    "pattern = re.compile(r\"a.b\")\n",
    "text = [\"Azzzzzb\",\"abb\",\"aOb\",\"opp\"]\n",
    "\n",
    "for string in text:\n",
    "    if pattern.fullmatch(string):\n",
    "        print(f\"Matched : {string}\")"
   ]
  },
  {
   "cell_type": "code",
   "execution_count": 25,
   "metadata": {},
   "outputs": [
    {
     "name": "stdout",
     "output_type": "stream",
     "text": [
      "::::::::::\n"
     ]
    }
   ],
   "source": [
    "import re\n",
    "\n",
    "text = \" : , . . .\"\n",
    "\n",
    "pattern = r\"[ ,.]\"\n",
    "\n",
    "result = re.sub(pattern,\":\",text)\n",
    "print(result)"
   ]
  },
  {
   "cell_type": "code",
   "execution_count": 26,
   "metadata": {},
   "outputs": [
    {
     "name": "stdout",
     "output_type": "stream",
     "text": [
      "helloWorldExample\n"
     ]
    }
   ],
   "source": [
    "import re\n",
    "\n",
    "def snake_to_camel(snake_str):\n",
    "    words = snake_str.split('_')  \n",
    "    camel_case = words[0] + ''.join(word.capitalize() for word in words[1:])  \n",
    "    return camel_case\n",
    "\n",
    "snake_string = \"hello_world_example\"\n",
    "camel_string = snake_to_camel(snake_string)\n",
    "print(camel_string)  \n"
   ]
  },
  {
   "cell_type": "code",
   "execution_count": null,
   "metadata": {},
   "outputs": [],
   "source": [
    "import re\n",
    "\n",
    "def split_at_uppercase(s):\n",
    "    return re.split(r'(?=[A-Z])', s)\n",
    "\n",
    "text = \"HelloWorldExample\"\n",
    "result = split_at_uppercase(text)\n",
    "print(result)\n"
   ]
  },
  {
   "cell_type": "code",
   "execution_count": null,
   "metadata": {},
   "outputs": [],
   "source": [
    "import re\n",
    "\n",
    "def insert_spaces(s):\n",
    "    return re.sub(r'(?=[A-Z])', ' ', s).strip()\n",
    "\n",
    "text = \"HelloWorldExample\"\n",
    "result = insert_spaces(text)\n",
    "print(result)\n"
   ]
  },
  {
   "cell_type": "code",
   "execution_count": 27,
   "metadata": {},
   "outputs": [
    {
     "name": "stdout",
     "output_type": "stream",
     "text": [
      "hello_world_example\n"
     ]
    }
   ],
   "source": [
    "import re\n",
    "\n",
    "def camel_to_snake(s):\n",
    "    return re.sub(r'([A-Z])', r'_\\1', s).lower().lstrip('_')\n",
    "\n",
    "text = \"HelloWorldExample\"\n",
    "result = camel_to_snake(text)\n",
    "print(result)\n"
   ]
  }
 ],
 "metadata": {
  "kernelspec": {
   "display_name": "Python 3",
   "language": "python",
   "name": "python3"
  },
  "language_info": {
   "codemirror_mode": {
    "name": "ipython",
    "version": 3
   },
   "file_extension": ".py",
   "mimetype": "text/x-python",
   "name": "python",
   "nbconvert_exporter": "python",
   "pygments_lexer": "ipython3",
   "version": "3.13.1"
  }
 },
 "nbformat": 4,
 "nbformat_minor": 2
}
